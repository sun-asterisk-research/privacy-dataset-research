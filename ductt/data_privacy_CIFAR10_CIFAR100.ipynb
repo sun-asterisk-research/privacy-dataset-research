{
  "cells": [
    {
      "cell_type": "markdown",
      "source": [
        "# Main Content\n",
        "* Training and testting Generator model in CIFAR10 dataset \n",
        "* Then Training and Testing Classifier model in CIFAR100 dataset to compare performance with classifier model when input is original image and privacy image (from CIFAR100)\n",
        "* We using ResNet18 for base classfier model"
      ],
      "metadata": {
        "id": "mVfRd2YuzuL6"
      }
    },
    {
      "cell_type": "code",
      "source": [
        "from google.colab import drive\n",
        "drive.mount('/content/drive')"
      ],
      "metadata": {
        "colab": {
          "base_uri": "https://localhost:8080/"
        },
        "id": "4on_NPGrDanX",
        "outputId": "d7a1b3ec-d0f9-461d-f50b-76afe3d84ecb"
      },
      "execution_count": null,
      "outputs": [
        {
          "output_type": "stream",
          "name": "stdout",
          "text": [
            "Drive already mounted at /content/drive; to attempt to forcibly remount, call drive.mount(\"/content/drive\", force_remount=True).\n"
          ]
        }
      ]
    },
    {
      "cell_type": "code",
      "execution_count": null,
      "metadata": {
        "id": "CBv3AkMxSQ5M"
      },
      "outputs": [],
      "source": [
        "import functools\n",
        "import os\n",
        "import torch\n",
        "import torch.nn as nn\n",
        "import torch.optim as optim\n",
        "from torch.autograd import Variable\n",
        "import torchvision\n",
        "import random\n",
        "import matplotlib.pyplot as plt\n",
        "from torchvision import datasets, transforms"
      ]
    },
    {
      "cell_type": "code",
      "execution_count": null,
      "metadata": {
        "id": "d6aQJawUSQ5I"
      },
      "outputs": [],
      "source": [
        "%matplotlib inline\n",
        "!export CUDA_LAUNCH_BLOCKING=1"
      ]
    },
    {
      "cell_type": "code",
      "execution_count": null,
      "metadata": {
        "id": "dyM0fa79SQ5N"
      },
      "outputs": [],
      "source": [
        "class SkipConnection(nn.Module):\n",
        "    def __init__(self, outer_nc, inner_nc, input_nc=None,submodule=None, outermost=False, innermost=False, \n",
        "                 norm_layer=nn.BatchNorm2d, use_dropout=False, output_function=nn.Sigmoid):\n",
        "        super(SkipConnection, self).__init__()\n",
        "        self.outermost = outermost\n",
        "        if type(norm_layer) == functools.partial:\n",
        "            use_bias = norm_layer.func == nn.InstanceNorm2d\n",
        "        else:\n",
        "            use_bias = norm_layer == nn.InstanceNorm2d\n",
        "        if input_nc is None:\n",
        "            input_nc = outer_nc\n",
        "        downconv = nn.Conv2d(input_nc, inner_nc, kernel_size=4,\n",
        "                             stride=2, padding=1, bias=use_bias)\n",
        "        downrelu = nn.LeakyReLU(0.2, True)\n",
        "        downnorm = norm_layer(inner_nc)\n",
        "        uprelu = nn.ReLU(True)\n",
        "        upnorm = norm_layer(outer_nc)\n",
        "\n",
        "        if outermost:\n",
        "            upconv = nn.ConvTranspose2d(inner_nc * 2, outer_nc,\n",
        "                                        kernel_size=4, stride=2,\n",
        "                                        padding=1)\n",
        "            down = [downconv]\n",
        "            if output_function == nn.Tanh:\n",
        "                up = [uprelu, upconv, nn.Tanh()]\n",
        "            else:\n",
        "                up = [uprelu, upconv, nn.Sigmoid()]\n",
        "            model = down + [submodule] + up\n",
        "        elif innermost:\n",
        "            upconv = nn.ConvTranspose2d(inner_nc, outer_nc,\n",
        "                                        kernel_size=4, stride=2,\n",
        "                                        padding=1, bias=use_bias)\n",
        "            down = [downrelu, downconv]\n",
        "            up = [uprelu, upconv, upnorm]\n",
        "            model = down + up\n",
        "        else:\n",
        "            upconv = nn.ConvTranspose2d(inner_nc * 2, outer_nc,\n",
        "                                        kernel_size=4, stride=2,\n",
        "                                        padding=1, bias=use_bias)\n",
        "            down = [downrelu, downconv, downnorm]\n",
        "            up = [uprelu, upconv, upnorm]\n",
        "\n",
        "            if use_dropout:\n",
        "                model = down + [submodule] + up + [nn.Dropout(0.5)]\n",
        "            else:\n",
        "                model = down + [submodule] + up\n",
        "\n",
        "        self.model = nn.Sequential(*model)\n",
        "\n",
        "    def forward(self, x):\n",
        "        if self.outermost:\n",
        "            return self.model(x)\n",
        "        else:\n",
        "            return torch.cat([x, self.model(x)], 1)"
      ]
    },
    {
      "cell_type": "code",
      "execution_count": null,
      "metadata": {
        "id": "pvtwGQH9SQ5O"
      },
      "outputs": [],
      "source": [
        "class Generator(nn.Module):\n",
        "    def __init__(self, input_nc, output_nc, ngf=32,\n",
        "                 norm_layer=nn.BatchNorm2d, use_dropout=False, output_function=nn.Sigmoid):\n",
        "        super(Generator, self).__init__()\n",
        "        # construct unet structure\n",
        "        unet_block = SkipConnection(ngf * 8, ngf * 8, input_nc=None, submodule=None, norm_layer=norm_layer, innermost=True)\n",
        "        unet_block = SkipConnection(ngf * 4, ngf * 8, input_nc=None, submodule=unet_block, norm_layer=norm_layer)\n",
        "        unet_block = SkipConnection(ngf * 2, ngf * 4, input_nc=None, submodule=unet_block, norm_layer=norm_layer)\n",
        "        unet_block = SkipConnection(ngf, ngf * 2, input_nc=None, submodule=unet_block, norm_layer=norm_layer)\n",
        "        unet_block = SkipConnection(output_nc, ngf, input_nc=input_nc, submodule=unet_block, outermost=True, norm_layer=norm_layer, output_function=output_function)\n",
        "\n",
        "        self.model = unet_block\n",
        "\n",
        "    def forward(self, input):\n",
        "        return self.model(input)"
      ]
    },
    {
      "cell_type": "code",
      "execution_count": null,
      "metadata": {
        "id": "pMLpLp0PSQ5P"
      },
      "outputs": [],
      "source": [
        "device = torch.device('cuda:0')"
      ]
    },
    {
      "cell_type": "code",
      "execution_count": null,
      "metadata": {
        "id": "L1aHP4FnSQ5Q"
      },
      "outputs": [],
      "source": [
        "# Build ResNet 18 Module \n",
        "\n",
        "# https://github.com/kuangliu/pytorch-cifar\n",
        "\n",
        "import torch\n",
        "import torch.nn as nn\n",
        "import torch.nn.functional as F\n",
        "\n",
        "\n",
        "class BasicBlock(nn.Module):\n",
        "    expansion = 1\n",
        "\n",
        "    def __init__(self, in_planes, planes, stride=1):\n",
        "        super(BasicBlock, self).__init__()\n",
        "        self.conv1 = nn.Conv2d(\n",
        "            in_planes, planes, kernel_size=3, stride=stride, padding=1, bias=False)\n",
        "        self.bn1 = nn.BatchNorm2d(planes)\n",
        "        self.conv2 = nn.Conv2d(planes, planes, kernel_size=3,\n",
        "                               stride=1, padding=1, bias=False)\n",
        "        self.bn2 = nn.BatchNorm2d(planes)\n",
        "\n",
        "        self.shortcut = nn.Sequential()\n",
        "        if stride != 1 or in_planes != self.expansion*planes:\n",
        "            self.shortcut = nn.Sequential(\n",
        "                nn.Conv2d(in_planes, self.expansion*planes,\n",
        "                          kernel_size=1, stride=stride, bias=False),\n",
        "                nn.BatchNorm2d(self.expansion*planes)\n",
        "            )\n",
        "\n",
        "    def forward(self, x):\n",
        "        out = F.relu(self.bn1(self.conv1(x)))\n",
        "        out = self.bn2(self.conv2(out))\n",
        "        out += self.shortcut(x)\n",
        "        out = F.relu(out)\n",
        "        return out\n",
        "\n",
        "\n",
        "class Bottleneck(nn.Module):\n",
        "    expansion = 4\n",
        "\n",
        "    def __init__(self, in_planes, planes, stride=1):\n",
        "        super(Bottleneck, self).__init__()\n",
        "        self.conv1 = nn.Conv2d(in_planes, planes, kernel_size=1, bias=False)\n",
        "        self.bn1 = nn.BatchNorm2d(planes)\n",
        "        self.conv2 = nn.Conv2d(planes, planes, kernel_size=3,\n",
        "                               stride=stride, padding=1, bias=False)\n",
        "        self.bn2 = nn.BatchNorm2d(planes)\n",
        "        self.conv3 = nn.Conv2d(planes, self.expansion *\n",
        "                               planes, kernel_size=1, bias=False)\n",
        "        self.bn3 = nn.BatchNorm2d(self.expansion*planes)\n",
        "\n",
        "        self.shortcut = nn.Sequential()\n",
        "        if stride != 1 or in_planes != self.expansion*planes:\n",
        "            self.shortcut = nn.Sequential(\n",
        "                nn.Conv2d(in_planes, self.expansion*planes,\n",
        "                          kernel_size=1, stride=stride, bias=False),\n",
        "                nn.BatchNorm2d(self.expansion*planes)\n",
        "            )\n",
        "\n",
        "    def forward(self, x):\n",
        "        out = F.relu(self.bn1(self.conv1(x)))\n",
        "        out = F.relu(self.bn2(self.conv2(out)))\n",
        "        out = self.bn3(self.conv3(out))\n",
        "        out += self.shortcut(x)\n",
        "        out = F.relu(out)\n",
        "        return out\n",
        "\n",
        "\n",
        "class ResNet(nn.Module):\n",
        "    def __init__(self, block, num_blocks, num_classes=10):\n",
        "        super(ResNet, self).__init__()\n",
        "        self.in_planes = 64\n",
        "\n",
        "        self.conv1 = nn.Conv2d(3, 64, kernel_size=3,\n",
        "                               stride=1, padding=1, bias=False)\n",
        "        self.bn1 = nn.BatchNorm2d(64)\n",
        "        self.layer1 = self._make_layer(block, 64, num_blocks[0], stride=1)\n",
        "        self.layer2 = self._make_layer(block, 128, num_blocks[1], stride=2)\n",
        "        self.layer3 = self._make_layer(block, 256, num_blocks[2], stride=2)\n",
        "        self.layer4 = self._make_layer(block, 512, num_blocks[3], stride=2)\n",
        "        self.linear = nn.Linear(512*block.expansion, num_classes)\n",
        "\n",
        "    def _make_layer(self, block, planes, num_blocks, stride):\n",
        "        strides = [stride] + [1]*(num_blocks-1)\n",
        "        layers = []\n",
        "        for stride in strides:\n",
        "            layers.append(block(self.in_planes, planes, stride))\n",
        "            self.in_planes = planes * block.expansion\n",
        "        return nn.Sequential(*layers)\n",
        "\n",
        "    def forward(self, x):\n",
        "        out = F.relu(self.bn1(self.conv1(x)))\n",
        "        out = self.layer1(out)\n",
        "        out = self.layer2(out)\n",
        "        out = self.layer3(out)\n",
        "        out = self.layer4(out)\n",
        "        out = F.avg_pool2d(out, 4)\n",
        "        out = out.view(out.size(0), -1)\n",
        "        out = self.linear(out)\n",
        "        return out\n",
        "    \n",
        "def ResNet18():\n",
        "    return ResNet(BasicBlock, [2, 2, 2, 2])"
      ]
    },
    {
      "cell_type": "code",
      "execution_count": null,
      "metadata": {
        "id": "mqa5ztigSQ5R"
      },
      "outputs": [],
      "source": [
        "def weights_init(m):\n",
        "    classname = m.__class__.__name__\n",
        "    if classname.find('Conv') != -1:\n",
        "        m.weight.data.normal_(0.0, 0.02)\n",
        "    elif classname.find('BatchNorm') != -1:\n",
        "        m.weight.data.normal_(1.0, 0.02)\n",
        "        m.bias.data.fill_(0)"
      ]
    },
    {
      "cell_type": "code",
      "execution_count": null,
      "metadata": {
        "id": "lm68efb0SQ5S",
        "colab": {
          "base_uri": "https://localhost:8080/"
        },
        "outputId": "7c096f35-7697-4799-f9e8-c0c45dfb3462"
      },
      "outputs": [
        {
          "output_type": "execute_result",
          "data": {
            "text/plain": [
              "ResNet(\n",
              "  (conv1): Conv2d(3, 64, kernel_size=(3, 3), stride=(1, 1), padding=(1, 1), bias=False)\n",
              "  (bn1): BatchNorm2d(64, eps=1e-05, momentum=0.1, affine=True, track_running_stats=True)\n",
              "  (layer1): Sequential(\n",
              "    (0): BasicBlock(\n",
              "      (conv1): Conv2d(64, 64, kernel_size=(3, 3), stride=(1, 1), padding=(1, 1), bias=False)\n",
              "      (bn1): BatchNorm2d(64, eps=1e-05, momentum=0.1, affine=True, track_running_stats=True)\n",
              "      (conv2): Conv2d(64, 64, kernel_size=(3, 3), stride=(1, 1), padding=(1, 1), bias=False)\n",
              "      (bn2): BatchNorm2d(64, eps=1e-05, momentum=0.1, affine=True, track_running_stats=True)\n",
              "      (shortcut): Sequential()\n",
              "    )\n",
              "    (1): BasicBlock(\n",
              "      (conv1): Conv2d(64, 64, kernel_size=(3, 3), stride=(1, 1), padding=(1, 1), bias=False)\n",
              "      (bn1): BatchNorm2d(64, eps=1e-05, momentum=0.1, affine=True, track_running_stats=True)\n",
              "      (conv2): Conv2d(64, 64, kernel_size=(3, 3), stride=(1, 1), padding=(1, 1), bias=False)\n",
              "      (bn2): BatchNorm2d(64, eps=1e-05, momentum=0.1, affine=True, track_running_stats=True)\n",
              "      (shortcut): Sequential()\n",
              "    )\n",
              "  )\n",
              "  (layer2): Sequential(\n",
              "    (0): BasicBlock(\n",
              "      (conv1): Conv2d(64, 128, kernel_size=(3, 3), stride=(2, 2), padding=(1, 1), bias=False)\n",
              "      (bn1): BatchNorm2d(128, eps=1e-05, momentum=0.1, affine=True, track_running_stats=True)\n",
              "      (conv2): Conv2d(128, 128, kernel_size=(3, 3), stride=(1, 1), padding=(1, 1), bias=False)\n",
              "      (bn2): BatchNorm2d(128, eps=1e-05, momentum=0.1, affine=True, track_running_stats=True)\n",
              "      (shortcut): Sequential(\n",
              "        (0): Conv2d(64, 128, kernel_size=(1, 1), stride=(2, 2), bias=False)\n",
              "        (1): BatchNorm2d(128, eps=1e-05, momentum=0.1, affine=True, track_running_stats=True)\n",
              "      )\n",
              "    )\n",
              "    (1): BasicBlock(\n",
              "      (conv1): Conv2d(128, 128, kernel_size=(3, 3), stride=(1, 1), padding=(1, 1), bias=False)\n",
              "      (bn1): BatchNorm2d(128, eps=1e-05, momentum=0.1, affine=True, track_running_stats=True)\n",
              "      (conv2): Conv2d(128, 128, kernel_size=(3, 3), stride=(1, 1), padding=(1, 1), bias=False)\n",
              "      (bn2): BatchNorm2d(128, eps=1e-05, momentum=0.1, affine=True, track_running_stats=True)\n",
              "      (shortcut): Sequential()\n",
              "    )\n",
              "  )\n",
              "  (layer3): Sequential(\n",
              "    (0): BasicBlock(\n",
              "      (conv1): Conv2d(128, 256, kernel_size=(3, 3), stride=(2, 2), padding=(1, 1), bias=False)\n",
              "      (bn1): BatchNorm2d(256, eps=1e-05, momentum=0.1, affine=True, track_running_stats=True)\n",
              "      (conv2): Conv2d(256, 256, kernel_size=(3, 3), stride=(1, 1), padding=(1, 1), bias=False)\n",
              "      (bn2): BatchNorm2d(256, eps=1e-05, momentum=0.1, affine=True, track_running_stats=True)\n",
              "      (shortcut): Sequential(\n",
              "        (0): Conv2d(128, 256, kernel_size=(1, 1), stride=(2, 2), bias=False)\n",
              "        (1): BatchNorm2d(256, eps=1e-05, momentum=0.1, affine=True, track_running_stats=True)\n",
              "      )\n",
              "    )\n",
              "    (1): BasicBlock(\n",
              "      (conv1): Conv2d(256, 256, kernel_size=(3, 3), stride=(1, 1), padding=(1, 1), bias=False)\n",
              "      (bn1): BatchNorm2d(256, eps=1e-05, momentum=0.1, affine=True, track_running_stats=True)\n",
              "      (conv2): Conv2d(256, 256, kernel_size=(3, 3), stride=(1, 1), padding=(1, 1), bias=False)\n",
              "      (bn2): BatchNorm2d(256, eps=1e-05, momentum=0.1, affine=True, track_running_stats=True)\n",
              "      (shortcut): Sequential()\n",
              "    )\n",
              "  )\n",
              "  (layer4): Sequential(\n",
              "    (0): BasicBlock(\n",
              "      (conv1): Conv2d(256, 512, kernel_size=(3, 3), stride=(2, 2), padding=(1, 1), bias=False)\n",
              "      (bn1): BatchNorm2d(512, eps=1e-05, momentum=0.1, affine=True, track_running_stats=True)\n",
              "      (conv2): Conv2d(512, 512, kernel_size=(3, 3), stride=(1, 1), padding=(1, 1), bias=False)\n",
              "      (bn2): BatchNorm2d(512, eps=1e-05, momentum=0.1, affine=True, track_running_stats=True)\n",
              "      (shortcut): Sequential(\n",
              "        (0): Conv2d(256, 512, kernel_size=(1, 1), stride=(2, 2), bias=False)\n",
              "        (1): BatchNorm2d(512, eps=1e-05, momentum=0.1, affine=True, track_running_stats=True)\n",
              "      )\n",
              "    )\n",
              "    (1): BasicBlock(\n",
              "      (conv1): Conv2d(512, 512, kernel_size=(3, 3), stride=(1, 1), padding=(1, 1), bias=False)\n",
              "      (bn1): BatchNorm2d(512, eps=1e-05, momentum=0.1, affine=True, track_running_stats=True)\n",
              "      (conv2): Conv2d(512, 512, kernel_size=(3, 3), stride=(1, 1), padding=(1, 1), bias=False)\n",
              "      (bn2): BatchNorm2d(512, eps=1e-05, momentum=0.1, affine=True, track_running_stats=True)\n",
              "      (shortcut): Sequential()\n",
              "    )\n",
              "  )\n",
              "  (linear): Linear(in_features=512, out_features=10, bias=True)\n",
              ")"
            ]
          },
          "metadata": {},
          "execution_count": 9
        }
      ],
      "source": [
        "generator = Generator(input_nc=6, output_nc=3)\n",
        "generator = generator.to(device)\n",
        "generator.apply(weights_init)\n",
        "\n",
        "classifier = ResNet18()\n",
        "classifier = classifier.to(device)\n",
        "classifier.apply(weights_init)"
      ]
    },
    {
      "cell_type": "code",
      "execution_count": null,
      "metadata": {
        "id": "PgIIyUlZSQ5V"
      },
      "outputs": [],
      "source": [
        "def prepare_dataloader(num_workers=8,\n",
        "                       train_batch_size=128,\n",
        "                       eval_batch_size=256):\n",
        "\n",
        "    train_transform = transforms.Compose([\n",
        "        transforms.RandomCrop(32, padding=4),\n",
        "        transforms.RandomHorizontalFlip(),\n",
        "        transforms.ToTensor(),\n",
        "    ])\n",
        "\n",
        "    test_transform = transforms.Compose([\n",
        "        transforms.ToTensor(),\n",
        "    ])\n",
        "\n",
        "    train_set = torchvision.datasets.CIFAR10(root=\"data\",\n",
        "                                             train=True,\n",
        "                                             download=True,\n",
        "                                             transform=train_transform)\n",
        "    \n",
        "    test_set = torchvision.datasets.CIFAR10(root=\"data\",\n",
        "                                            train=False,\n",
        "                                            download=True,\n",
        "                                            transform=test_transform)\n",
        "\n",
        "    train_sampler = torch.utils.data.RandomSampler(train_set)\n",
        "    test_sampler = torch.utils.data.SequentialSampler(test_set)\n",
        "\n",
        "    train_loader = torch.utils.data.DataLoader(dataset=train_set,\n",
        "                                               batch_size=train_batch_size,\n",
        "                                               sampler=train_sampler,\n",
        "                                               num_workers=num_workers)\n",
        "\n",
        "    test_loader = torch.utils.data.DataLoader(dataset=test_set,\n",
        "                                              batch_size=eval_batch_size,\n",
        "                                              sampler=test_sampler,\n",
        "                                              num_workers=num_workers)\n",
        "\n",
        "    return train_loader, test_loader"
      ]
    },
    {
      "cell_type": "code",
      "execution_count": null,
      "metadata": {
        "id": "dHVMdoSpSQ5W",
        "outputId": "428dc9c9-fec0-4492-e501-013ef94f9d84",
        "colab": {
          "base_uri": "https://localhost:8080/"
        }
      },
      "outputs": [
        {
          "output_type": "stream",
          "name": "stdout",
          "text": [
            "Files already downloaded and verified\n",
            "Files already downloaded and verified\n"
          ]
        },
        {
          "output_type": "stream",
          "name": "stderr",
          "text": [
            "/usr/local/lib/python3.7/dist-packages/torch/utils/data/dataloader.py:481: UserWarning: This DataLoader will create 8 worker processes in total. Our suggested max number of worker in current system is 2, which is smaller than what this DataLoader is going to create. Please be aware that excessive worker creation might get DataLoader running slow or even freeze, lower the worker number to avoid potential slowness/freeze if necessary.\n",
            "  cpuset_checked))\n"
          ]
        }
      ],
      "source": [
        "train_loader, test_loader = prepare_dataloader()"
      ]
    },
    {
      "cell_type": "code",
      "execution_count": null,
      "metadata": {
        "id": "OjLtvmeDSQ5X"
      },
      "outputs": [],
      "source": [
        "# MSE loss\n",
        "mse_criterion = nn.MSELoss()\n",
        "\n",
        "ce_criterion = nn.CrossEntropyLoss()"
      ]
    },
    {
      "cell_type": "code",
      "execution_count": null,
      "metadata": {
        "id": "DQa4eMIfSQ5Y"
      },
      "outputs": [],
      "source": [
        "optimizerG = optim.Adam(generator.parameters(), lr=0.01, betas=(0.5, 0.999))\n",
        "\n",
        "optimizerC = optim.Adam(classifier.parameters(), lr=0.01, betas=(0.5, 0.999))"
      ]
    },
    {
      "cell_type": "code",
      "execution_count": null,
      "metadata": {
        "id": "-bfYhKYxSQ5Y"
      },
      "outputs": [],
      "source": [
        "class AverageMeter(object):\n",
        "    \"\"\"\n",
        "    Computes and stores the average and current value.\n",
        "    \"\"\"\n",
        "\n",
        "    def __init__(self):\n",
        "        self.reset()\n",
        "\n",
        "    def reset(self):\n",
        "        self.val = 0\n",
        "        self.avg = 0\n",
        "        self.sum = 0\n",
        "        self.count = 0\n",
        "\n",
        "    def update(self, val, n=1):\n",
        "        self.val = val\n",
        "        self.sum += val * n\n",
        "        self.count += n\n",
        "        self.avg = self.sum / self.count"
      ]
    },
    {
      "cell_type": "code",
      "execution_count": null,
      "metadata": {
        "id": "6_nTHMHSSQ5Y"
      },
      "outputs": [],
      "source": [
        "transform = transforms.Normalize(mean=(0.485, 0.456, 0.406),\n",
        "                             std=(0.229, 0.224, 0.225))"
      ]
    },
    {
      "cell_type": "code",
      "execution_count": null,
      "metadata": {
        "id": "FwoVbnwqSQ5Z"
      },
      "outputs": [],
      "source": [
        "# @title Bộ 3 ảnh: Container - real - privacy\n",
        "def show_images(images):\n",
        "    grid_img = torchvision.utils.make_grid(images, nrow=3)\n",
        "    plt.imshow(grid_img.permute(1,2,0))\n",
        "    plt.show()"
      ]
    },
    {
      "cell_type": "code",
      "execution_count": null,
      "metadata": {
        "id": "u05um9ZLSQ5Z"
      },
      "outputs": [],
      "source": [
        "best_generator_loss = 1"
      ]
    },
    {
      "cell_type": "code",
      "execution_count": null,
      "metadata": {
        "id": "e5ijASzUSQ5Z"
      },
      "outputs": [],
      "source": [
        "best_classifier_loss = 1"
      ]
    },
    {
      "cell_type": "code",
      "execution_count": null,
      "metadata": {
        "id": "-xUo4K4TSQ5a"
      },
      "outputs": [],
      "source": [
        "# Training generator \n",
        "\n",
        "def train_generator(train_loader, epoch, generator, mse_criterion, cuda=True, show=True):\n",
        "    generator.train()\n",
        "    \n",
        "    g_losses = AverageMeter()\n",
        "    \n",
        "    output_images = []\n",
        "\n",
        "    for i, (image, label) in enumerate(train_loader):\n",
        "        generator.zero_grad()\n",
        "\n",
        "        # Select half dataset for container images\n",
        "        pivot = len(image) // 2 \n",
        "        container_image = image[0:pivot, :, :, :]\n",
        "        real_image = image[pivot:pivot*2, :, :, :]\n",
        "        real_label = label[pivot:pivot*2]\n",
        "\n",
        "        # Create input of generator (6-dims: batch_size x 6 x 32 x 32)\n",
        "        gen_input = torch.cat([container_image, real_image], dim=1)\n",
        "        \n",
        "        # To cuda\n",
        "        if cuda:\n",
        "            container_image = container_image.to(device)\n",
        "            real_image = real_image.to(device)\n",
        "            real_label = real_label.to(device)\n",
        "            gen_input = gen_input.to(device)\n",
        "\n",
        "        # Create variable\n",
        "        gen_input_v = Variable(gen_input)\n",
        "        container_image_v = Variable(container_image)\n",
        "\n",
        "        # Output of model \n",
        "        privacy_image = generator(gen_input_v)\n",
        "        \n",
        "        if i % 100 == 0 and show:\n",
        "            index = random.randint(0, pivot - 1)\n",
        "            output_images.extend([container_image[index].cpu(), real_image[index].cpu(), privacy_image[index].cpu()])\n",
        "\n",
        "        # Calculate loss \n",
        "        g_loss = mse_criterion(privacy_image, container_image_v)\n",
        "        \n",
        "        # Average loss \n",
        "        g_losses.update(g_loss.data, pivot)\n",
        "        \n",
        "        # Backward\n",
        "        g_loss.backward()\n",
        "\n",
        "        optimizerG.step()\n",
        "    \n",
        "    print('Training generator - Epoch {} g_loss = {}'.format(epoch, g_losses.avg))\n",
        "    # Show some output images\n",
        "    if show:\n",
        "        show_images(output_images)"
      ]
    },
    {
      "cell_type": "code",
      "execution_count": null,
      "metadata": {
        "id": "9BFHo8EGSQ5a"
      },
      "outputs": [],
      "source": [
        "#@title Ảnh đầu vào sẽ đưa qua trained generator model (với container không phải là ảnh lấy ngẫu nhiên trong dataset àm sẽ là ảnh đen: container_image = torch.zeros(image.shape)) sau đó mới đưa vào train\n",
        "# Training classifier \n",
        "\n",
        "def train_classifier(train_loader, epoch, generator, classifier, ce_criterion, cuda=True, show=True):\n",
        "    generator.eval()\n",
        "    classifier.train()\n",
        "\n",
        "    c_losses = AverageMeter() \n",
        "    \n",
        "    correct = 0\n",
        "    total = 0\n",
        "\n",
        "    for i, (image, label) in enumerate(train_loader):\n",
        "        generator.zero_grad()\n",
        "        classifier.zero_grad()\n",
        "        \n",
        "        # Select half dataset for container images\n",
        "        pivot = len(image) \n",
        "        container_image = torch.zeros(image.shape)\n",
        "\n",
        "        # Create input of generator (6-dims: batch_size x 6 x 32 x 32)\n",
        "        gen_input = torch.cat([container_image, image], dim=1)\n",
        "        \n",
        "        # To cuda\n",
        "        if cuda:\n",
        "            container_image = container_image.to(device)\n",
        "            image = image.to(device)\n",
        "            label = label.to(device)\n",
        "            gen_input = gen_input.to(device)\n",
        "\n",
        "        # Create variable\n",
        "        gen_input_v = Variable(gen_input)\n",
        "        container_image_v = Variable(container_image)\n",
        "\n",
        "        # Output of model \n",
        "        with torch.no_grad():\n",
        "            privacy_image = generator(gen_input_v)\n",
        "        \n",
        "        pred_label = classifier(privacy_image)\n",
        "        pred_label = pred_label.to(device)\n",
        "\n",
        "        # Calculate loss \n",
        "        c_loss = ce_criterion(pred_label, label)\n",
        "        \n",
        "        # Average loss \n",
        "        c_losses.update(c_loss.data, pivot)\n",
        "        \n",
        "        # Backward\n",
        "        c_loss.backward()\n",
        "\n",
        "        optimizerC.step()\n",
        "        \n",
        "        # Calculate accuracy\n",
        "        _, predicted = pred_label.max(1)\n",
        "        total += label.size(0)\n",
        "        correct += predicted.eq(label).sum().item()\n",
        "    \n",
        "    print('Training classifier - Epoch {} c_loss = {} acc = {}'.format(epoch, c_losses.avg, correct/total))"
      ]
    },
    {
      "cell_type": "code",
      "execution_count": null,
      "metadata": {
        "id": "1Rx5eEj3SQ5a"
      },
      "outputs": [],
      "source": [
        "def test_generator(test_loader, generator, mse_criterion, cuda=True, show=True):    \n",
        "    global best_generator_loss\n",
        "    \n",
        "    generator.eval()\n",
        "    \n",
        "    g_losses = AverageMeter() \n",
        "    \n",
        "    output_images = []\n",
        "    \n",
        "    with torch.no_grad():\n",
        "        for i, (image, label) in enumerate(test_loader):\n",
        "            # Select half dataset for container images\n",
        "            pivot = len(image) // 2 \n",
        "            container_image = image[0:pivot, :, :, :]\n",
        "            real_image = image[pivot:pivot*2, :, :, :]\n",
        "            real_label = label[pivot:pivot*2]\n",
        "\n",
        "            gen_input = torch.cat([container_image, real_image], dim=1)\n",
        "\n",
        "            # To cuda\n",
        "            if cuda:\n",
        "                container_image = container_image.to(device)\n",
        "                real_image = real_image.to(device)\n",
        "                real_label = real_label.to(device)\n",
        "                gen_input = gen_input.to(device)\n",
        "\n",
        "            gen_input_v = Variable(gen_input)\n",
        "            container_image_v = Variable(container_image)\n",
        "\n",
        "            # Output of model \n",
        "            privacy_image = generator(gen_input_v)\n",
        "            \n",
        "            if i % 100 == 0 and show:\n",
        "                index = random.randint(0, pivot - 1)\n",
        "                output_images.extend([container_image[index].cpu(), real_image[index].cpu(), privacy_image[index].cpu()])\n",
        "            \n",
        "            # Calculate loss \n",
        "            g_loss = mse_criterion(privacy_image, container_image_v)\n",
        "\n",
        "            # Average loss \n",
        "            g_losses.update(g_loss.data, pivot)\n",
        "    \n",
        "    \n",
        "    print('Testing generator - g_loss = {}'.format(g_losses.avg))    \n",
        "    \n",
        "    # Save checkpoint \n",
        "    if g_losses.avg < best_generator_loss:\n",
        "        best_generator_loss = g_losses.avg\n",
        "        torch.save(generator.state_dict(), '/content/drive/MyDrive/Colab Notebooks/checkpoints/best_generator_loss.pth')\n",
        "        print('Save best checkpoint with loss {}'.format(g_losses.avg))\n",
        "\n",
        "    # Show some output images\n",
        "    if show:\n",
        "        show_images(output_images)        "
      ]
    },
    {
      "cell_type": "code",
      "execution_count": null,
      "metadata": {
        "id": "Fyjykz5tSQ5b"
      },
      "outputs": [],
      "source": [
        "def test_classifier(test_loader, generator, classifier, ce_criterion, cuda=True, show=True):\n",
        "    global best_classifier_loss\n",
        "    generator.eval()\n",
        "    classifier.eval()\n",
        " \n",
        "    c_losses = AverageMeter()\n",
        "    \n",
        "    correct = 0\n",
        "    total = 0\n",
        "    \n",
        "    with torch.no_grad():\n",
        "        for i, (image, label) in enumerate(test_loader):\n",
        "            # Select half dataset for container images\n",
        "            pivot = len(image) \n",
        "            \n",
        "            container_image = torch.zeros(image.shape)\n",
        "            \n",
        "            gen_input = torch.cat([container_image, image], dim=1)\n",
        "\n",
        "            # To cuda\n",
        "            if cuda:\n",
        "                container_image = container_image.to(device)\n",
        "                image = image.to(device)\n",
        "                label = label.to(device)\n",
        "                gen_input = gen_input.to(device)\n",
        "\n",
        "            gen_input_v = Variable(gen_input)\n",
        "            container_image_v = Variable(container_image)\n",
        "\n",
        "            # Output of model \n",
        "            privacy_image = generator(gen_input_v)\n",
        "            pred_label = classifier(privacy_image)\n",
        "            \n",
        "            # Calculate loss \n",
        "            c_loss = ce_criterion(pred_label, label)\n",
        "\n",
        "            # Average loss \n",
        "            c_losses.update(c_loss.data, pivot)\n",
        "\n",
        "            # Calculate accuracy\n",
        "            _, predicted = pred_label.max(1)\n",
        "            total += label.size(0)\n",
        "            correct += predicted.eq(label).sum().item()\n",
        "    \n",
        "    print('Testing classifier - Epoch {} c_loss = {} acc = {}'.format(epoch, c_losses.avg, correct/total))         \n",
        "\n",
        "    # Save checkpoint \n",
        "    if c_losses.avg < best_classifier_loss:\n",
        "        best_classifier_loss = c_losses.avg\n",
        "        torch.save(classifier.state_dict(), '/content/drive/MyDrive/Colab Notebooks/checkpoints/best_classifier_loss.pth')\n",
        "        print('Save best checkpoint with loss {}'.format(c_losses.avg))"
      ]
    },
    {
      "cell_type": "markdown",
      "source": [
        "Training Generator"
      ],
      "metadata": {
        "id": "LdMkTiCjzD8C"
      }
    },
    {
      "cell_type": "code",
      "execution_count": null,
      "metadata": {
        "id": "EV6kU2DjSQ5b"
      },
      "outputs": [],
      "source": [
        "# Training generator first\n",
        "for epoch in range(100):\n",
        "    show = False\n",
        "    if epoch % 20 == 0:\n",
        "        show = True\n",
        "    train_generator(train_loader, epoch, generator, mse_criterion, show=show)\n",
        "    test_generator(test_loader, generator, mse_criterion, show=show)"
      ]
    },
    {
      "cell_type": "markdown",
      "source": [
        "Load model Generator "
      ],
      "metadata": {
        "id": "jRBP7FYZzGbH"
      }
    },
    {
      "cell_type": "code",
      "execution_count": null,
      "metadata": {
        "id": "QGAwwNZVSQ5c",
        "colab": {
          "base_uri": "https://localhost:8080/"
        },
        "outputId": "c91fe813-1b96-4892-8344-3430f733931d"
      },
      "outputs": [
        {
          "output_type": "execute_result",
          "data": {
            "text/plain": [
              "<All keys matched successfully>"
            ]
          },
          "metadata": {},
          "execution_count": 24
        }
      ],
      "source": [
        "generator.load_state_dict(torch.load('/content/drive/MyDrive/Colab Notebooks/checkpoints/best_generator_loss.pth'))"
      ]
    },
    {
      "cell_type": "markdown",
      "source": [
        "# Train and test classifier model with cifar100"
      ],
      "metadata": {
        "id": "FiDI2v5ghpHj"
      }
    },
    {
      "cell_type": "code",
      "source": [
        "def prepare_dataloader_cifar100(num_workers=8,\n",
        "                       train_batch_size=128,\n",
        "                       eval_batch_size=256):\n",
        "\n",
        "    train_transform = transforms.Compose([\n",
        "        transforms.RandomCrop(32, padding=4),\n",
        "        transforms.RandomHorizontalFlip(),\n",
        "        transforms.ToTensor(),\n",
        "    ])\n",
        "\n",
        "    test_transform = transforms.Compose([\n",
        "        transforms.ToTensor(),\n",
        "    ])\n",
        "\n",
        "    train_set = torchvision.datasets.CIFAR100(root=\"data\",\n",
        "                                             train=True,\n",
        "                                             download=True,\n",
        "                                             transform=train_transform)\n",
        "    \n",
        "    test_set = torchvision.datasets.CIFAR100(root=\"data\",\n",
        "                                            train=False,\n",
        "                                            download=True,\n",
        "                                            transform=test_transform)\n",
        "\n",
        "    train_sampler = torch.utils.data.RandomSampler(train_set)\n",
        "    test_sampler = torch.utils.data.SequentialSampler(test_set)\n",
        "\n",
        "    train_loader = torch.utils.data.DataLoader(dataset=train_set,\n",
        "                                               batch_size=train_batch_size,\n",
        "                                               sampler=train_sampler,\n",
        "                                               num_workers=num_workers)\n",
        "\n",
        "    test_loader = torch.utils.data.DataLoader(dataset=test_set,\n",
        "                                              batch_size=eval_batch_size,\n",
        "                                              sampler=test_sampler,\n",
        "                                              num_workers=num_workers)\n",
        "\n",
        "    return train_loader, test_loader\n",
        "\n",
        "train_cifar100, test_cifar100 = prepare_dataloader_cifar100()"
      ],
      "metadata": {
        "id": "R38CNsphhoy9"
      },
      "execution_count": null,
      "outputs": []
    },
    {
      "cell_type": "code",
      "execution_count": null,
      "metadata": {
        "id": "OJqiDZCGSQ5c"
      },
      "outputs": [],
      "source": [
        "for epoch in range(100):\n",
        "    train_classifier(train_cifar100, epoch, generator, classifier, ce_criterion, cuda=True, show=True)\n",
        "    test_classifier(test_cifar100, generator, classifier, ce_criterion, cuda=True, show=True)"
      ]
    }
  ],
  "metadata": {
    "kernelspec": {
      "display_name": "Conda 3.6",
      "language": "python",
      "name": "conda36env"
    },
    "language_info": {
      "codemirror_mode": {
        "name": "ipython",
        "version": 3
      },
      "file_extension": ".py",
      "mimetype": "text/x-python",
      "name": "python",
      "nbconvert_exporter": "python",
      "pygments_lexer": "ipython3",
      "version": "3.6.10"
    },
    "colab": {
      "name": "data_privacy_CIFAR10_CIFAR100.ipynb",
      "provenance": [],
      "collapsed_sections": []
    },
    "accelerator": "GPU"
  },
  "nbformat": 4,
  "nbformat_minor": 0
}